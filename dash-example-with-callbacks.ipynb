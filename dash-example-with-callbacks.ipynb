{
 "nbformat": 4,
 "nbformat_minor": 2,
 "metadata": {
  "language_info": {
   "name": "python",
   "codemirror_mode": {
    "name": "ipython",
    "version": 3
   },
   "version": "3.7.3"
  },
  "orig_nbformat": 2,
  "file_extension": ".py",
  "mimetype": "text/x-python",
  "name": "python",
  "npconvert_exporter": "python",
  "pygments_lexer": "ipython3",
  "version": 3
 },
 "cells": [
  {
   "cell_type": "code",
   "execution_count": 99,
   "metadata": {},
   "outputs": [
    {
     "name": "stdout",
     "output_type": "stream",
     "text": "Import complete. This took 0.0 to run. \n"
    }
   ],
   "source": [
    "import dash\n",
    "import dash_core_components as dcc\n",
    "import dash_html_components as html\n",
    "from dash.dependencies import Input, Output #this allows us to do callbacks\n",
    "import plotly.graph_objects as go\n",
    "import plotly.express as px\n",
    "import pandas as pd\n",
    "import os\n",
    "import pyodbc\n",
    "\n",
    "#debugging\n",
    "import time\n",
    "start_time = time.time()\n",
    "\n",
    "print ('Import complete. This took', time.time() - start_time, 'to run. ')  #B/C fku vscode for being slow."
   ]
  },
  {
   "cell_type": "code",
   "execution_count": 100,
   "metadata": {},
   "outputs": [
    {
     "name": "stdout",
     "output_type": "stream",
     "text": "Connection function Complete.\n"
    }
   ],
   "source": [
    "#Establish Connection Function\n",
    "\n",
    "def get_conn():\n",
    "    server = \"DC1QEDCISQLEEV;\" if os.path.exists(\"Q:\") else \"VDBEDCISANDBOX;\"\n",
    "    odbc_conn = \"DRIVER={SQL Server};SERVER=\" + server\n",
    "    return pyodbc.connect(odbc_conn, autocommit=True) #pyodbc.connect(odbc_conn)\n",
    "\n",
    "print('Connection function Complete.')"
   ]
  },
  {
   "cell_type": "code",
   "execution_count": 101,
   "metadata": {},
   "outputs": [
    {
     "data": {
      "text/html": "<div>\n<style scoped>\n    .dataframe tbody tr th:only-of-type {\n        vertical-align: middle;\n    }\n\n    .dataframe tbody tr th {\n        vertical-align: top;\n    }\n\n    .dataframe thead th {\n        text-align: right;\n    }\n</style>\n<table border=\"1\" class=\"dataframe\">\n  <thead>\n    <tr style=\"text-align: right;\">\n      <th></th>\n      <th>COMPANY_NM</th>\n      <th>Total_Deposits</th>\n      <th>AVG_DEPOSIT</th>\n    </tr>\n  </thead>\n  <tbody>\n    <tr>\n      <th>0</th>\n      <td>DODGE &amp; COX</td>\n      <td>1.158034e+08</td>\n      <td>1.301162e+06</td>\n    </tr>\n    <tr>\n      <th>1</th>\n      <td>PIMCO</td>\n      <td>1.532909e+07</td>\n      <td>2.129040e+05</td>\n    </tr>\n    <tr>\n      <th>2</th>\n      <td>BAIN CAPITAL LP</td>\n      <td>1.175934e+07</td>\n      <td>8.459956e+04</td>\n    </tr>\n    <tr>\n      <th>3</th>\n      <td>RBC CAPITAL MARK</td>\n      <td>6.976610e+06</td>\n      <td>1.245823e+05</td>\n    </tr>\n    <tr>\n      <th>4</th>\n      <td>TRINET</td>\n      <td>6.862659e+06</td>\n      <td>6.313394e+03</td>\n    </tr>\n  </tbody>\n</table>\n</div>",
      "text/plain": "                            COMPANY_NM  Total_Deposits   AVG_DEPOSIT\n0  DODGE & COX                            1.158034e+08  1.301162e+06\n1  PIMCO                                  1.532909e+07  2.129040e+05\n2  BAIN CAPITAL LP                        1.175934e+07  8.459956e+04\n3  RBC CAPITAL MARK                       6.976610e+06  1.245823e+05\n4  TRINET                                 6.862659e+06  6.313394e+03"
     },
     "execution_count": 101,
     "metadata": {},
     "output_type": "execute_result"
    }
   ],
   "source": [
    "#Get data\n",
    "\n",
    "#df that has top 10 companies at FRB based on total dep\n",
    "df_top_cmp_by_dep = '''\n",
    "SELECT TOP 10\n",
    "COMPANY_NM\n",
    ",SUM(RDFI_AMT) as Total_Deposits\n",
    ",AVG(RDFI_AMT) AS AVG_DEPOSIT\n",
    "FROM [DataScienceAndAnalytics].[stage].[PAYROLL_TRANSACTIONS]\n",
    "WHERE 1 = 1\n",
    "AND PROD_DT >= '2019-12-01' \n",
    "AND COMPANY_NM <> 'First Republic'\n",
    "GROUP BY COMPANY_NM\n",
    "order by 2 desc \n",
    "'''\n",
    "\n",
    "df_top_cmp_by_dep = pd.read_sql(df_top_cmp_by_dep, get_conn())\n",
    "\n",
    "df_top_cmp_by_dep.head()\n"
   ]
  },
  {
   "cell_type": "code",
   "execution_count": 102,
   "metadata": {},
   "outputs": [],
   "source": [
    " #Create bolean mask for df, this is so we can create the callbacks in dash.\n",
    "# inputCompany = 'PIMCO'\n",
    "\n",
    "# mask = df_top_cmp_by_dep['COMPANY_NM'].str.contains(inputCompany)\n",
    "\n",
    "# masked_df = df_top_cmp_by_dep[mask]\n",
    "\n",
    "# df_top_cmp_by_dep[mask].head()\n"
   ]
  },
  {
   "cell_type": "code",
   "execution_count": null,
   "metadata": {},
   "outputs": [],
   "source": []
  },
  {
   "cell_type": "code",
   "execution_count": 103,
   "metadata": {},
   "outputs": [],
   "source": [
    "#Establish Graph Data with plotly. This is done with traces.\n",
    "\n",
    "# Top10Trace = go.Bar(x=df_top_cmp_by_dep['COMPANY_NM']\n",
    "#                   , y=df_top_cmp_by_dep['Total_Deposits']\n",
    "#                   , name='Total Deposits')\n",
    "\n",
    "# #Create a data variable so this can be easily switched later. \n",
    "# data = [Top10Trace]\n",
    "\n",
    "# #Create a layout that can be easily switched later \n",
    "# layout = dict(Title =  ('Total Deposits for ',inputCompany)  \n",
    "#              ,showlegend = False)\n",
    "\n",
    "#Set Figure\n",
    "fig = dict(data = data\n",
    "           ,layout = layout)"
   ]
  },
  {
   "cell_type": "code",
   "execution_count": 0,
   "metadata": {},
   "outputs": [],
   "source": [
    "#Dash Starts here\n",
    "app = dash.Dash()\n",
    "\n",
    "app.layout = html.Div([\n",
    "\n",
    "\n",
    "\n",
    "    html.Div(html.H1(children=\"Transaction Dash - Test\"))\n",
    ",\n",
    "    html.Label('Transaction Graph')\n",
    ",\n",
    "   html.Div(  \n",
    "    dcc.Input(\n",
    "         id='company-input'\n",
    "        ,placeholder='Enter Company Name'\n",
    "        ,type='text'\n",
    "        ,value='PIMCO'\n",
    "             )\n",
    "            )\n",
    ",\n",
    "    html.Div(\n",
    "        dcc.Graph(id = 'trans_deposit_graph'\n",
    "                  ,figure = fig\n",
    "                 )\n",
    "            )\n",
    ",\n",
    "    html.Div(\n",
    "        dcc.Dropdown(\n",
    "            options = [\n",
    "            {'label': 'Label 1 Here', 'value': 'Value 1'}\n",
    "           ,{'label': 'Label 2 Here', 'value': 'Value 2'}\n",
    "           ,\n",
    "\n",
    "\n",
    "                     ]\n",
    "                    )\n",
    "            )\n",
    "\n",
    "])\n",
    "\n",
    "#Below allows us to set user input functionality with call backs.\n",
    "#Output = where the user input will be reflected. e.g. a graph ('name-of-output','what-youre-updating')\n",
    "#Input = the place where the user gets to choose the option ('what you're referencing, 'value from that input' )\n",
    "@app.callback(dash.dependencies.Output('trans_deposit_graph',\"figure\")\n",
    "              ,[dash.dependencies.Input('company-input','value')]\n",
    "              )\n",
    "def update_fig(input_value):\n",
    "    #Create bolean mask for df, this is so we can create the callbacks in dash.\n",
    "    mask = df_top_cmp_by_dep['COMPANY_NM'].str.contains(input_value)\n",
    "\n",
    "    masked_df = df_top_cmp_by_dep[mask]\n",
    "\n",
    "    Top10Trace = go.Bar(x=masked_df['COMPANY_NM']\n",
    "                      , y=masked_df['Total_Deposits']\n",
    "                      , name='Total Deposits')\n",
    "\n",
    "    data = []\n",
    "\n",
    "    data.append(Top10Trace)\n",
    "\n",
    "    layout = {'title':'Callback Graph'}\n",
    "\n",
    "    return {\n",
    "        \"data\": data\n",
    "        ,\"layout\": layout\n",
    "    }\n",
    "\n",
    "\n",
    "\n"
   ]
  },
  {
   "cell_type": "code",
   "execution_count": 0,
   "metadata": {},
   "outputs": [],
   "source": [
    "if __name__ == '__main__':\n",
    "    app.run_server(debug=False)"
   ]
  },
  {
   "cell_type": "code",
   "execution_count": null,
   "metadata": {},
   "outputs": [],
   "source": []
  }
 ]
}